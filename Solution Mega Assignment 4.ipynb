{
 "cells": [
  {
   "cell_type": "markdown",
   "metadata": {},
   "source": [
    "# Python Mega Assignment 1"
   ]
  },
  {
   "cell_type": "code",
   "execution_count": 1,
   "metadata": {},
   "outputs": [],
   "source": [
    "# Q1. Which of the following terms are related to dictionaries?\n",
    "# a. value\n",
    "# b. item\n",
    "# c. index\n",
    "# d. key\n",
    "\n",
    "# Lets Define a dictionary to look into possible available terms related to dictionary\n",
    "dict1 = {\n",
    "        \"id\" : 12,\n",
    "        \"CNIC\" : 12345,\n",
    "        \"age\" : 25,\n",
    "    }"
   ]
  },
  {
   "cell_type": "code",
   "execution_count": 9,
   "metadata": {},
   "outputs": [
    {
     "name": "stdout",
     "output_type": "stream",
     "text": [
      "[('age', 25), ('CNIC', 12345), ('id', 12)]\n",
      "['age', 'CNIC', 'id']\n",
      "[25, 12345, 12]\n"
     ]
    }
   ],
   "source": [
    "print(dict1.items())\n",
    "print(dict1.keys())\n",
    "print(dict1.values())\n",
    "\n",
    "#Ans: Except index, all other terms are related to dictionay. dictionary values are accessed by keys.\n",
    "#they are not held in any particular order, unlike a list."
   ]
  },
  {
   "cell_type": "code",
   "execution_count": 12,
   "metadata": {},
   "outputs": [
    {
     "name": "stdout",
     "output_type": "stream",
     "text": [
      "['Mon', 'Tue', 'Wed', 'Thu', 'Fri', 'Sat', 'Sun', 1, 2, 3, 5]\n"
     ]
    }
   ],
   "source": [
    "#Q2. Just like lists, + operator is used to extend dictionaries?\n",
    "#a. True\n",
    "#b. False\n",
    "\n",
    "#Lets define a list first\n",
    "days = [\"Mon\",\"Tue\",\"Wed\",\"Thu\",\"Fri\",\"Sat\",\"Sun\"]\n",
    "num = [1,2,3,5]\n",
    "list = days + num\n",
    "print(list)\n",
    "\n",
    "# dict1 is already defined. lets define 2nd dict2\n",
    "dict2 = {\n",
    "        \"name\": \"veer\",\n",
    "        \"height\" : 6.2,\n",
    "        \"address\" : \"isb\",\n",
    "    }"
   ]
  },
  {
   "cell_type": "code",
   "execution_count": 31,
   "metadata": {},
   "outputs": [
    {
     "name": "stdout",
     "output_type": "stream",
     "text": [
      "[('CNIC', 12345), ('name', 'veer'), ('address', 'isb'), ('age', 25), ('id', 12), ('height', 6.2)]\n",
      "{'CNIC': 12345, 'name': 'veer', 'address': 'isb', 'age': 25, 'id': 12, 'height': 6.2}\n"
     ]
    },
    {
     "ename": "TypeError",
     "evalue": "unsupported operand type(s) for +: 'dict' and 'dict'",
     "output_type": "error",
     "traceback": [
      "\u001b[1;31m---------------------------------------------------------------------------\u001b[0m",
      "\u001b[1;31mTypeError\u001b[0m                                 Traceback (most recent call last)",
      "\u001b[1;32m<ipython-input-31-166460409ead>\u001b[0m in \u001b[0;36m<module>\u001b[1;34m()\u001b[0m\n\u001b[0;32m      6\u001b[0m \u001b[1;31m#Lets try to extend both dictionaries using +\u001b[0m\u001b[1;33m\u001b[0m\u001b[1;33m\u001b[0m\u001b[0m\n\u001b[0;32m      7\u001b[0m \u001b[1;33m\u001b[0m\u001b[0m\n\u001b[1;32m----> 8\u001b[1;33m \u001b[1;32mprint\u001b[0m\u001b[1;33m(\u001b[0m\u001b[0mdict2\u001b[0m\u001b[1;33m+\u001b[0m\u001b[0mdict1\u001b[0m\u001b[1;33m)\u001b[0m\u001b[1;33m\u001b[0m\u001b[0m\n\u001b[0m",
      "\u001b[1;31mTypeError\u001b[0m: unsupported operand type(s) for +: 'dict' and 'dict'"
     ]
    }
   ],
   "source": [
    "print(dict2.items())\n",
    "\n",
    "dict2.update(dict1)\n",
    "print(dict2)\n",
    "\n",
    "#Lets try to extend both dictionaries using +\n",
    "\n",
    "print(dict2+dict1)"
   ]
  },
  {
   "cell_type": "code",
   "execution_count": 20,
   "metadata": {},
   "outputs": [],
   "source": [
    "# note: error at print(dict2+dict1)\n",
    "# we cannot extend dictionaries using +\n",
    "\n",
    "# Ans: b) false\n",
    "# Solution: we have update function for that purpose."
   ]
  },
  {
   "cell_type": "code",
   "execution_count": 36,
   "metadata": {},
   "outputs": [
    {
     "name": "stdout",
     "output_type": "stream",
     "text": [
      "{'CNIC': 12345, 'name': 'veer', 'address': 'isb', 'age': 25, 'id': 12, 'height': 6.2}\n"
     ]
    },
    {
     "data": {
      "text/plain": [
       "12345"
      ]
     },
     "execution_count": 36,
     "metadata": {},
     "output_type": "execute_result"
    }
   ],
   "source": [
    "# Q3. To access items from a dictionary, we specify the index of that item within [] like myDict[0]?\n",
    "# a. True\n",
    "# b. False\n",
    "\n",
    "# Ans: b false\n",
    "# Explanantion: we dont use index to access the dictionary items, but keys. like below\n",
    "print(dict2)\n",
    "dict2[\"CNIC\"]"
   ]
  },
  {
   "cell_type": "code",
   "execution_count": 39,
   "metadata": {},
   "outputs": [
    {
     "ename": "NameError",
     "evalue": "name 'FName' is not defined",
     "output_type": "error",
     "traceback": [
      "\u001b[1;31m---------------------------------------------------------------------------\u001b[0m",
      "\u001b[1;31mNameError\u001b[0m                                 Traceback (most recent call last)",
      "\u001b[1;32m<ipython-input-39-b3ffc55f87fd>\u001b[0m in \u001b[0;36m<module>\u001b[1;34m()\u001b[0m\n\u001b[0;32m      5\u001b[0m \u001b[1;31m# d. None of above\u001b[0m\u001b[1;33m\u001b[0m\u001b[1;33m\u001b[0m\u001b[0m\n\u001b[0;32m      6\u001b[0m \u001b[1;33m\u001b[0m\u001b[0m\n\u001b[1;32m----> 7\u001b[1;33m \u001b[0mdict2\u001b[0m\u001b[1;33m[\u001b[0m\u001b[0mFName\u001b[0m\u001b[1;33m]\u001b[0m\u001b[1;33m\u001b[0m\u001b[0m\n\u001b[0m",
      "\u001b[1;31mNameError\u001b[0m: name 'FName' is not defined"
     ]
    }
   ],
   "source": [
    "# Q.4 When we use [] to access the value from a dictionary which does not exist in that dictionary….?\n",
    "# a. Value within [] is added to the dictionary\n",
    "# b. Value None is returned\n",
    "# c. New dictionary is created\n",
    "# d. None of above\n",
    "\n",
    "dict2[FName]\n",
    "# Ans: d None of the above."
   ]
  },
  {
   "cell_type": "code",
   "execution_count": 63,
   "metadata": {},
   "outputs": [
    {
     "name": "stdout",
     "output_type": "stream",
     "text": [
      "{'bank': 'Ubl', 'transport': 'Uber'}\n",
      "flipkart\n"
     ]
    }
   ],
   "source": [
    "# Q5. What does return the pop method of a dictionary?\n",
    "# a. list\n",
    "# b. tuple containing the pair of last item of the dictionary\n",
    "# c. dictionary\n",
    "# d. value of the key, if it exists in the dictionary\n",
    "\n",
    "origDict = { \n",
    "    'shopping': 'flipkart',\n",
    "    'transport': 'Uber',\n",
    "    'bank': 'Ubl',\n",
    "    }\n",
    "removedItem = origDict.pop('shopping')\n",
    "print(origDict)\n",
    "print(removedItem)\n",
    "\n",
    "#Ans: pop returns value which is removed from dictionay."
   ]
  },
  {
   "cell_type": "code",
   "execution_count": 50,
   "metadata": {},
   "outputs": [
    {
     "data": {
      "text/plain": [
       "('age', 25)"
      ]
     },
     "execution_count": 50,
     "metadata": {},
     "output_type": "execute_result"
    }
   ],
   "source": [
    "# Q6. What does return popitem method return?\n",
    "# a. dictionary\n",
    "# b. tupple containing the pair of last item of the dictionary\n",
    "# c. list\n",
    "# d. value of key, if it exists in the dictionary\n",
    "\n",
    "dict1.popitem()\n",
    "#Ans: b"
   ]
  },
  {
   "cell_type": "code",
   "execution_count": 71,
   "metadata": {},
   "outputs": [],
   "source": [
    "# Q7. Which of the following 2 methods can be used to iterate through the items of a dictionary?\n",
    "# a. items()\n",
    "# b. values()\n",
    "# c. indexes()\n",
    "# d. keys()\n",
    "\n",
    "#Ans: a and d"
   ]
  },
  {
   "cell_type": "code",
   "execution_count": null,
   "metadata": {},
   "outputs": [],
   "source": [
    "#Q8. Which one of the following is used to enclose a dictionary?\n",
    "#a. () parenthesis\n",
    "#b. {} curly brackets\n",
    "#c. [] square brackets\n",
    "#d. “” quotation marks\n",
    "\n",
    "#Ans: b"
   ]
  },
  {
   "cell_type": "code",
   "execution_count": null,
   "metadata": {},
   "outputs": [],
   "source": [
    "#Q9. Write Python Program add key-value pair in dictionary and check if a Given Key or Value or Both\n",
    "#    Exists in a Dictionary or Not.\n"
   ]
  },
  {
   "cell_type": "code",
   "execution_count": null,
   "metadata": {},
   "outputs": [],
   "source": [
    "#Q10. Write a Python Program to Count the Frequency of Words Appearing in a String Using a\n",
    "#     Dictionary and print only the words having Even (divisible by 2) frequency.\n"
   ]
  },
  {
   "cell_type": "code",
   "execution_count": 75,
   "metadata": {},
   "outputs": [
    {
     "data": {
      "text/plain": [
       "['Feb', 'Apr', 'Mar']"
      ]
     },
     "execution_count": 75,
     "metadata": {},
     "output_type": "execute_result"
    }
   ],
   "source": [
    "# Q11. X = [\"Feb\", Apr, Mar, May, Jun, Jul, Aug, Jan]. What will be output of following?\n",
    "# X[0:3]\n",
    "# X[2:8]\n",
    "# X[4:9]\n",
    "# X[1:7:2]\n",
    "# X[-1:-7]\n",
    "# X[-7:7]\n",
    "# X[-1:-8:-2]\n",
    "# X[:4]\n",
    "\n",
    "X = [\"Feb\", \"Apr\", \"Mar\", \"May\", \"Jun\", \"Jul\", \"Aug\", \"Jan\"]\n",
    "X[0:3]"
   ]
  },
  {
   "cell_type": "code",
   "execution_count": 76,
   "metadata": {},
   "outputs": [
    {
     "data": {
      "text/plain": [
       "['Mar', 'May', 'Jun', 'Jul', 'Aug', 'Jan']"
      ]
     },
     "execution_count": 76,
     "metadata": {},
     "output_type": "execute_result"
    }
   ],
   "source": [
    "X[2:8]"
   ]
  },
  {
   "cell_type": "code",
   "execution_count": 77,
   "metadata": {},
   "outputs": [
    {
     "data": {
      "text/plain": [
       "['Jun', 'Jul', 'Aug', 'Jan']"
      ]
     },
     "execution_count": 77,
     "metadata": {},
     "output_type": "execute_result"
    }
   ],
   "source": [
    "X[4:9]"
   ]
  },
  {
   "cell_type": "code",
   "execution_count": 81,
   "metadata": {},
   "outputs": [
    {
     "data": {
      "text/plain": [
       "['Apr', 'May', 'Jul']"
      ]
     },
     "execution_count": 81,
     "metadata": {},
     "output_type": "execute_result"
    }
   ],
   "source": [
    "X[1:7:2]"
   ]
  },
  {
   "cell_type": "code",
   "execution_count": 80,
   "metadata": {},
   "outputs": [
    {
     "data": {
      "text/plain": [
       "[]"
      ]
     },
     "execution_count": 80,
     "metadata": {},
     "output_type": "execute_result"
    }
   ],
   "source": [
    "X[-1:-7]"
   ]
  },
  {
   "cell_type": "code",
   "execution_count": 83,
   "metadata": {},
   "outputs": [
    {
     "data": {
      "text/plain": [
       "['Apr', 'Mar', 'May', 'Jun', 'Jul', 'Aug']"
      ]
     },
     "execution_count": 83,
     "metadata": {},
     "output_type": "execute_result"
    }
   ],
   "source": [
    "X[-7:7]"
   ]
  },
  {
   "cell_type": "code",
   "execution_count": 84,
   "metadata": {},
   "outputs": [
    {
     "data": {
      "text/plain": [
       "['Jan', 'Jul', 'May', 'Apr']"
      ]
     },
     "execution_count": 84,
     "metadata": {},
     "output_type": "execute_result"
    }
   ],
   "source": [
    "X[-1:-8:-2]"
   ]
  },
  {
   "cell_type": "code",
   "execution_count": 85,
   "metadata": {},
   "outputs": [
    {
     "data": {
      "text/plain": [
       "['Feb', 'Apr', 'Mar', 'May']"
      ]
     },
     "execution_count": 85,
     "metadata": {},
     "output_type": "execute_result"
    }
   ],
   "source": [
    "X[:4]"
   ]
  },
  {
   "cell_type": "code",
   "execution_count": 87,
   "metadata": {},
   "outputs": [
    {
     "data": {
      "text/plain": [
       "[2, 8, 4, 5]"
      ]
     },
     "execution_count": 87,
     "metadata": {},
     "output_type": "execute_result"
    }
   ],
   "source": [
    "# Q12. 12. Remove the correct number from the list X\n",
    "# X = [ 9,2,8,4,5]\n",
    "# X__?__\n",
    "# print (X)\n",
    "# Output: [2,8,4,5]\n",
    "\n",
    "X = [ 9,2,8,4,5]\n",
    "X.remove(9)\n",
    "X\n",
    "\n",
    "#Ans:  .remove(9)"
   ]
  },
  {
   "cell_type": "code",
   "execution_count": 93,
   "metadata": {},
   "outputs": [
    {
     "name": "stdout",
     "output_type": "stream",
     "text": [
      "hello! hello! hello! \n"
     ]
    }
   ],
   "source": [
    " # Q13. p = 3\n",
    " # q = 'hello! '\n",
    " # print( q __?__ p)\n",
    " # hello! hello! hello!\n",
    "\n",
    "p = 3\n",
    "q = 'hello! '\n",
    "print(q*p)\n",
    "\n",
    "#Ans: 1) *"
   ]
  },
  {
   "cell_type": "code",
   "execution_count": 95,
   "metadata": {},
   "outputs": [],
   "source": [
    "# Q14. y = \"this is a random sentence\"\n",
    "# print (y__?__)\n",
    "# Output: THIS IS A RANDOM SENTENCE\n",
    "\n",
    "y = \"this is a random sentence\""
   ]
  },
  {
   "cell_type": "code",
   "execution_count": 101,
   "metadata": {},
   "outputs": [
    {
     "data": {
      "text/plain": [
       "'THIS IS A RANDOM SENTENCE'"
      ]
     },
     "execution_count": 101,
     "metadata": {},
     "output_type": "execute_result"
    }
   ],
   "source": [
    "y.upper()\n",
    "#Ans 1).upper()"
   ]
  },
  {
   "cell_type": "code",
   "execution_count": 107,
   "metadata": {},
   "outputs": [
    {
     "name": "stdout",
     "output_type": "stream",
     "text": [
      "<type 'str'>\n",
      "<type 'bool'>\n",
      "<type 'int'>\n",
      "<type 'float'>\n"
     ]
    }
   ],
   "source": [
    "#Q15. \n",
    "p = \"True\"\n",
    "q = True\n",
    "r = 2\n",
    "s = 2.0\n",
    "print(type(p))\n",
    "print(type(q))\n",
    "print(type(r))\n",
    "print(type(s))"
   ]
  },
  {
   "cell_type": "code",
   "execution_count": null,
   "metadata": {},
   "outputs": [],
   "source": [
    "# Q16. What are the optional arguments to the function?\n",
    "# function_1(R1, q, p=None, R2=None)\n",
    "# 1) q and R2\n",
    "# 2) p and R2\n",
    "# 3) p and R1\n",
    "# 4) R1 and q\n",
    "\n",
    "# Ans: 2) p and R2\n",
    "# Explanation: as p and R2 are being reassigned to 'None'. so it does not matter whether you pass it or not while calling. "
   ]
  },
  {
   "cell_type": "code",
   "execution_count": null,
   "metadata": {},
   "outputs": [],
   "source": [
    "#Q17. Which command invokes method X() of the object p?\n",
    "\n",
    "#Ans: 4)  p.x()"
   ]
  },
  {
   "cell_type": "code",
   "execution_count": 109,
   "metadata": {},
   "outputs": [
    {
     "name": "stdout",
     "output_type": "stream",
     "text": [
      "0\n",
      "2\n",
      "2\n",
      "2\n"
     ]
    }
   ],
   "source": [
    "#Q18.  \n",
    "X=4 \n",
    "Y= 2\n",
    "print(X % Y)\n",
    "print(X / Y)\n",
    "print(X // Y)\n",
    "print(Y % X)\n"
   ]
  },
  {
   "cell_type": "code",
   "execution_count": 117,
   "metadata": {},
   "outputs": [
    {
     "name": "stdout",
     "output_type": "stream",
     "text": [
      "4\n",
      "1\n",
      "1\n",
      "5\n",
      "9\n",
      "0\n"
     ]
    }
   ],
   "source": [
    "# Q19. x = [[4, 1, 1], [5, 9, 0]]\n",
    "\n",
    "# for i in __?__:\n",
    "#   for j in __?__:\n",
    "#   ?\n",
    "x = [[4, 1, 1], [5, 9, 0]]\n",
    "for i in range(2):\n",
    "        for j in range(3):\n",
    "            print(x[i][j])\n"
   ]
  },
  {
   "cell_type": "code",
   "execution_count": 140,
   "metadata": {},
   "outputs": [
    {
     "name": "stdout",
     "output_type": "stream",
     "text": [
      "[4, 1, 1, 4, 1, 1]\n",
      "[4, 1, 1, 5, 9, 0]\n",
      "[5, 9, 0, 4, 1, 1]\n",
      "[5, 9, 0, 5, 9, 0]\n"
     ]
    }
   ],
   "source": [
    "# x = [[4, 1, 1], [5, 9, 0]]\n",
    "# for i in __?__:\n",
    "# for j in __?__:\n",
    "# ?\n",
    "\n",
    "x = [[4, 1, 1], [5, 9, 0]]\n",
    "for i in range(2):\n",
    "    for j in range(2):\n",
    "        print(x[i]+x[j])"
   ]
  },
  {
   "cell_type": "code",
   "execution_count": null,
   "metadata": {},
   "outputs": [],
   "source": []
  },
  {
   "cell_type": "code",
   "execution_count": null,
   "metadata": {},
   "outputs": [],
   "source": []
  },
  {
   "cell_type": "code",
   "execution_count": null,
   "metadata": {},
   "outputs": [],
   "source": []
  },
  {
   "cell_type": "code",
   "execution_count": null,
   "metadata": {},
   "outputs": [],
   "source": []
  }
 ],
 "metadata": {
  "kernelspec": {
   "display_name": "Python 2",
   "language": "python",
   "name": "python2"
  },
  "language_info": {
   "codemirror_mode": {
    "name": "ipython",
    "version": 2
   },
   "file_extension": ".py",
   "mimetype": "text/x-python",
   "name": "python",
   "nbconvert_exporter": "python",
   "pygments_lexer": "ipython2",
   "version": "2.7.16"
  }
 },
 "nbformat": 4,
 "nbformat_minor": 2
}
